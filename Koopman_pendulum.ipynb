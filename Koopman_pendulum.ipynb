{
 "nbformat": 4,
 "nbformat_minor": 0,
 "metadata": {
  "colab": {
   "provenance": []
  },
  "kernelspec": {
   "name": "python3",
   "language": "python",
   "display_name": "Python 3"
  },
  "language_info": {
   "name": "python"
  }
 },
 "cells": [
  {
   "cell_type": "markdown",
   "source": [
    "# Prerequisites"
   ],
   "metadata": {
    "id": "8swwd46UmGvl"
   }
  },
  {
   "cell_type": "code",
   "source": [
    "#!sudo apt update\n",
    "#!sudo apt-get install libopenmpi-dev mpich\n",
    "#!python -m pip install mpi4py\n",
    "#!python -m pip install petsc\n",
    "#!python -m pip install petsc4py\n",
    "#import petsc\n",
    "#!pip install control"
   ],
   "metadata": {
    "id": "JFwsQ-HVpAAV",
    "colab": {
     "base_uri": "https://localhost:8080/"
    },
    "outputId": "f35ef948-a914-49ea-8928-f725c889e2c8",
    "ExecuteTime": {
     "end_time": "2024-04-09T11:02:58.029418322Z",
     "start_time": "2024-04-09T11:02:57.987150545Z"
    }
   },
   "execution_count": 2,
   "outputs": []
  },
  {
   "cell_type": "code",
   "source": [
    "# Definitions\n",
    "import numpy as np\n",
    "import matplotlib.pyplot as plt\n",
    "from matplotlib import rc\n",
    "rc('animation', html='jshtml')\n",
    "\n",
    "from matplotlib.animation import FuncAnimation\n",
    "\n",
    "def animate_dynamic_point(trajectory, resolution_Hz=15, duration=None, fig_size=8):\n",
    "    plt.ioff()\n",
    "    trajectory = np.array(trajectory)\n",
    "    trajectory = trajectory.T[:40].T\n",
    "    if len(trajectory.shape) == 1:\n",
    "        trajectory = trajectory.reshape(trajectory.size, 1)\n",
    "    if trajectory.shape == (trajectory.size, 1):\n",
    "        trajectory = np.stack((trajectory.T[0], np.zeros(trajectory.size))).T\n",
    "    if duration == None:\n",
    "        frames = range(trajectory.shape[0])\n",
    "    else:\n",
    "        frames = range(int(duration * resolution_Hz))\n",
    "    fig, ax = plt.subplots(figsize=(fig_size, fig_size))\n",
    "    # set the axes limits\n",
    "    ax.axis([-2,2,-2, 2])\n",
    "    ax.set_aspect(\"equal\")\n",
    "    # create a point in the axes\n",
    "    plt.grid()\n",
    "    ax.plot(0, 0, markersize=108, marker=\"o\", color = 'red')\n",
    "\n",
    "    plt.text(0, 0, 'Target', horizontalalignment='center', verticalalignment='center', color='white')\n",
    "    points = [ax.plot(0,1, marker=\"o\")[0] for _ in range(20)]\n",
    "\n",
    "    # Updating function, to be repeatedly called by the animation\n",
    "    def update(t):\n",
    "        # obtain point coordinates\n",
    "        x12 = trajectory[int(t) % trajectory.shape[0]][:40]\n",
    "        # set point's coordinates\n",
    "        for i in range(20):\n",
    "            points[i].set_data([x12[i]],[x12[20 + i]])\n",
    "        return points\n",
    "\n",
    "\n",
    "    ani = FuncAnimation(fig, update, interval=1000/resolution_Hz, blit=True, repeat=True,\n",
    "                    frames=frames)\n",
    "    plt.ion()\n",
    "    return ani"
   ],
   "metadata": {
    "id": "wHPnQqtymI-l",
    "ExecuteTime": {
     "end_time": "2024-04-09T11:28:07.521325841Z",
     "start_time": "2024-04-09T11:28:07.514597877Z"
    }
   },
   "execution_count": 2,
   "outputs": []
  },
  {
   "cell_type": "markdown",
   "source": [
    "# System"
   ],
   "metadata": {
    "id": "iPXqba1fzDlb"
   }
  },
  {
   "cell_type": "code",
   "source": [
    "from abc import ABC, abstractmethod\n",
    "from scipy.integrate import solve_ivp\n",
    "\n",
    "class ControlSystem(ABC):\n",
    "    @property\n",
    "    @abstractmethod\n",
    "    def output_dim(self):\n",
    "        pass\n",
    "\n",
    "    @property\n",
    "    @abstractmethod\n",
    "    def input_dim(self):\n",
    "        pass\n",
    "\n",
    "    @property\n",
    "    @abstractmethod\n",
    "    def state_dim(self):\n",
    "        pass\n",
    "\n",
    "    @abstractmethod\n",
    "    def drift(self, input):\n",
    "        pass\n",
    "\n",
    "    def explicit_drift(self, state, input):\n",
    "        self.set_state(state)\n",
    "        return self.drift(input)\n",
    "\n",
    "    def set_state(self, state):\n",
    "        self.state = state\n",
    "\n",
    "    @abstractmethod\n",
    "    def __call__(self, input):\n",
    "        pass\n",
    "\n",
    "class FullInformationSystem(ControlSystem):\n",
    "    def __call__(self, input):\n",
    "        return self.state\n",
    "\n",
    "    @property\n",
    "    def output_dim(self, input):\n",
    "        return self.state_dim\n",
    "\n",
    "class ClosedLoop:\n",
    "    def __init__(self, system, controller):\n",
    "        self.system = system\n",
    "        self.controller = controller\n",
    "\n",
    "\n",
    "    def __call__(self, coupled_state):\n",
    "        state = coupled_state[:self.system.state_dim]\n",
    "        controller_state = coupled_state[-self.controller.state_dim:]\n",
    "\n",
    "        if not isinstance(self.controller, OutputFeedback): # implying full information\n",
    "            self.controller.set_state(controller_state)\n",
    "            control = self.controller(state)\n",
    "            control_drift = self.controller.drift(state)\n",
    "\n",
    "            self.system.set_state(state)\n",
    "            drift = self.system.drift(control)\n",
    "            output = self.system(control)\n",
    "            coupled_drift = drift if control_drift is None else np.concatenate((drift, control_drift), axis=0)\n",
    "            return coupled_drift\n",
    "        else:\n",
    "            raise NotImplementedError()\n",
    "\n",
    "    def simulate(self, initial_state, time, initial_controller_state=None):\n",
    "        def f(t, y):\n",
    "            return self(y)\n",
    "        if initial_controller_state is None:\n",
    "            initial_controller_state = np.zeros(self.controller.state_dim)\n",
    "        initial_coupled_state = np.concatenate((initial_state, initial_controller_state), axis=0)\n",
    "        res = solve_ivp(f, [0, time], initial_coupled_state)\n",
    "        return res.t, res.y\n",
    "\n",
    "def discretize_euler(system, dt=0.001):\n",
    "    def discretized(state, input):\n",
    "        return state + system.explicit_drift(state, input) * dt\n",
    "    return discretized"
   ],
   "metadata": {
    "id": "xMRg3IZfzL9g",
    "ExecuteTime": {
     "end_time": "2024-04-09T11:28:10.484522045Z",
     "start_time": "2024-04-09T11:28:10.346770426Z"
    }
   },
   "execution_count": 3,
   "outputs": []
  },
  {
   "cell_type": "markdown",
   "source": [
    "# LTI"
   ],
   "metadata": {
    "id": "muRXtpn5NScv"
   }
  },
  {
   "cell_type": "code",
   "source": [
    "def controllability_matrix(A, B):\n",
    "    return np.block([[np.linalg.matrix_power(A, i) @ B for i in range(A.shape[0])]])\n",
    "\n",
    "def controllability_gramian(A, B):\n",
    "    cmtx = controllability_matrix(A, B)\n",
    "    return np.linalg.det(np.array([[row1 @ row2 for row1 in cmtx] for row2 in cmtx]))\n"
   ],
   "metadata": {
    "id": "-4MbAv-eNR02",
    "ExecuteTime": {
     "end_time": "2024-04-09T11:28:11.872407057Z",
     "start_time": "2024-04-09T11:28:11.855857457Z"
    }
   },
   "execution_count": 4,
   "outputs": []
  },
  {
   "cell_type": "markdown",
   "source": [
    "# Synthesis"
   ],
   "metadata": {
    "id": "0duQczxTi2ir"
   }
  },
  {
   "cell_type": "code",
   "source": [
    "from abc import ABC, abstractmethod\n",
    "\n",
    "class Feedback(ControlSystem):\n",
    "    pass\n",
    "\n",
    "class FullStateFeedback(Feedback):\n",
    "\n",
    "    @property\n",
    "    def output_dim(self):\n",
    "        return self.K.shape[0]\n",
    "\n",
    "    @property\n",
    "    def input_dim(self):\n",
    "        return self.K.shape[1]\n",
    "\n",
    "    @property\n",
    "    def state_dim(self):\n",
    "        return 0\n",
    "\n",
    "    def __init__(self, K):\n",
    "        self.K = K\n",
    "\n",
    "    def drift(self, input):\n",
    "        return None\n",
    "\n",
    "    def __call__(self, input):\n",
    "        print(self.K.shape)\n",
    "        return self.K @ input\n",
    "\n",
    "class OutputFeedback(Feedback):\n",
    "    def __init__(self, F):\n",
    "      self.F = F\n",
    "      self.A = NotImplemented\n",
    "      self.B = NotImplemented\n",
    "\n",
    "    def drift(self, input):\n",
    "        raise NotImplementedError()\n",
    "\n",
    "    def __call__(self, input):\n",
    "        raise NotImplementedError()\n",
    "\n",
    "\n",
    "class Synthesis(ABC):\n",
    "    @abstractmethod\n",
    "    def __call__(self, A=None, B=None, C=None, D=None):\n",
    "        pass"
   ],
   "metadata": {
    "id": "qTRWb4xHi0D3",
    "ExecuteTime": {
     "end_time": "2024-04-09T11:28:18.306981348Z",
     "start_time": "2024-04-09T11:28:18.295634190Z"
    }
   },
   "execution_count": 5,
   "outputs": []
  },
  {
   "cell_type": "markdown",
   "source": [
    "### LQR"
   ],
   "metadata": {
    "id": "xSNgtHutn3Pl"
   }
  },
  {
   "cell_type": "code",
   "source": [
    "from scipy import linalg\n",
    "\n",
    "class LQRContinuous(Synthesis):\n",
    "    def __init__(self, Q, R):\n",
    "        self.Q = Q\n",
    "        self.R = R\n",
    "\n",
    "    def __call__(self, A, B, C=None, D=None):\n",
    "        P = linalg.solve_continuous_are(A, B, self.Q, self.R)\n",
    "        return NotImplemented\n",
    "\n",
    "class LQRDiscrete(Synthesis): # try finite horizon, because the system is unstable?\n",
    "    def __init__(self, Q, R):\n",
    "        self.Q = Q\n",
    "        self.R = R\n",
    "\n",
    "    def __call__(self, A, B, C=None, D=None):\n",
    "        P = linalg.solve_discrete_are(A, B, self.Q, self.R)\n",
    "        K = np.linalg.inv(self.R + B.T @ P @ B) @ B.T @ P @ A\n",
    "        return FullStateFeedback(K=-K)\n",
    "\n",
    "class LQRDiscreteFH(Synthesis): # try finite horizon, because the system is unstable?\n",
    "    def __init__(self, Q, R, horizon):\n",
    "        self.Q = Q\n",
    "        self.R = R\n",
    "        self.horizon = horizon\n",
    "\n",
    "    def __call__(self, A, B, C=None, D=None):\n",
    "        P = np.zeros(A.shape)\n",
    "        Q, R = self.Q, self.R\n",
    "        for _ in range(self.horizon):\n",
    "            P = A.T @ P @ A - A.T @ P @ B @ np.linalg.inv(R + B.T @ P @ B) @ B.T @ P @ A + Q\n",
    "        K = np.linalg.inv(self.R + B.T @ P @ B) @ B.T @ P @ A\n",
    "        return FullStateFeedback(K=-K)\n"
   ],
   "metadata": {
    "id": "QUy7dAMvjnXx",
    "ExecuteTime": {
     "end_time": "2024-04-09T11:28:19.860092203Z",
     "start_time": "2024-04-09T11:28:19.857188103Z"
    }
   },
   "execution_count": 6,
   "outputs": []
  },
  {
   "cell_type": "markdown",
   "source": [
    "#### Test"
   ],
   "metadata": {
    "id": "x7A7Su6qWGEB"
   }
  },
  {
   "cell_type": "code",
   "source": [
    "A = np.eye(2)\n",
    "B = np.diag([1, 1])\n",
    "Q = np.eye(2)\n",
    "R = np.eye(2)\n",
    "lqr = LQRDiscreteFH(Q, R, 10)\n",
    "print(lqr(A, B).K)\n",
    "\n",
    "print(LQRDiscrete(Q, R)(A, B).K)"
   ],
   "metadata": {
    "colab": {
     "base_uri": "https://localhost:8080/"
    },
    "id": "TWdFDWj1VYiJ",
    "outputId": "bca88232-a5ee-4ff8-d329-acd09fe22ade",
    "ExecuteTime": {
     "end_time": "2024-04-09T11:28:21.278797948Z",
     "start_time": "2024-04-09T11:28:21.197062702Z"
    }
   },
   "execution_count": 7,
   "outputs": [
    {
     "name": "stdout",
     "output_type": "stream",
     "text": [
      "[[-0.61803399 -0.        ]\n",
      " [-0.         -0.61803399]]\n",
      "[[-0.61803399 -0.        ]\n",
      " [-0.         -0.61803399]]\n"
     ]
    }
   ]
  },
  {
   "cell_type": "markdown",
   "source": [
    "# MPC"
   ],
   "metadata": {
    "id": "c_iVa4BXDDbg"
   }
  },
  {
   "cell_type": "code",
   "source": [
    "class ExplicitMPC(Synthesis):\n",
    "    def __init__(self, Q, R):\n",
    "        self.Q = Q\n",
    "        self.R = R\n",
    "\n",
    "    def __call__(self, A, B, sample=10):\n",
    "        return NotImplemented"
   ],
   "metadata": {
    "id": "LJqHYWDSDCHf",
    "ExecuteTime": {
     "end_time": "2024-04-09T11:28:23.083634392Z",
     "start_time": "2024-04-09T11:28:23.077989844Z"
    }
   },
   "execution_count": 8,
   "outputs": []
  },
  {
   "cell_type": "markdown",
   "source": [
    "# Koopman projection, EDMD"
   ],
   "metadata": {
    "id": "eev36o6dn41J"
   }
  },
  {
   "cell_type": "code",
   "source": [
    "from abc import ABC, abstractmethod\n",
    "import sympy as sp\n",
    "from sympy.polys.monomials import itermonomials\n",
    "import numpy as np\n",
    "from sympy.polys.orderings import monomial_key\n",
    "from sklearn.linear_model import LinearRegression\n",
    "\n",
    "class Sampler(ABC):\n",
    "    @abstractmethod\n",
    "    def __call__(self, sample_size):\n",
    "        pass\n",
    "\n",
    "\n",
    "class UniformBoxSampler(Sampler):\n",
    "    def __init__(self, *dims):\n",
    "        self.spans = np.array([dim[1] - dim[0] for dim in dims])\n",
    "        self.offsets = np.array([dim[0] for dim in dims])\n",
    "\n",
    "    def __call__(self, sample_size):\n",
    "        cube_sample = np.random.random(sample_size * self.spans.size).reshape(sample_size, self.spans.size)\n",
    "        return (self.offsets + cube_sample * self.spans)\n",
    "\n",
    "\n",
    "class Lift(ABC):\n",
    "    @abstractmethod\n",
    "    def fit(state_transtion):\n",
    "        pass\n",
    "\n",
    "    @abstractmethod\n",
    "    def pullback(self, feedback):\n",
    "        pass\n",
    "\n",
    "\n",
    "class PolynomialLift(Lift):\n",
    "    def __init__(self, n_terms):\n",
    "        self.n_terms = n_terms\n",
    "\n",
    "    def fit(self, state_transition, state_sampler, control_sampler, n_samples):\n",
    "        self.n_vars = state_sampler.offsets.size\n",
    "        variables = sp.symbols(\" \".join([f\"x{i}\" for i in range(self.n_vars)]))\n",
    "        self.terms = sorted(itermonomials(variables, self.n_terms, 1), key=monomial_key('grlex', variables[::-1]))\n",
    "        self.terms_lambdified = sp.lambdify(variables, sp.Matrix(self.terms))\n",
    "        X = []\n",
    "        Y = []\n",
    "\n",
    "        state_samples = state_sampler(n_samples)\n",
    "        control_samples = control_sampler(n_samples)\n",
    "        for state, control in zip(state_samples, control_samples):\n",
    "            next_state = state_transition(state, control)\n",
    "            y = self.terms_lambdified(*next_state).T[0]\n",
    "            x = np.concatenate((self.terms_lambdified(*state), control[None].T),\n",
    "                               axis=0).T[0]\n",
    "            X.append(x)\n",
    "            Y.append(y)\n",
    "\n",
    "        X = np.array(X)\n",
    "        Y = np.array(Y)\n",
    "\n",
    "        reg = LinearRegression(fit_intercept=False).fit(X, Y)\n",
    "\n",
    "        self.A = reg.coef_[:, :-1]\n",
    "        self.B = reg.coef_[:, -1:]\n",
    "\n",
    "        return self.A, self.B\n",
    "\n",
    "    def predict(self, state, control):\n",
    "        return (self.A @ self(state) + self.B @ control)[:self.n_vars]\n",
    "\n",
    "    def __call__(self, state):\n",
    "        return self.terms_lambdified(*state).T[0]\n",
    "\n",
    "    def pullback(self, feedback): # assuming fulll information\n",
    "        class PulledBackFeedback(Feedback):\n",
    "            @property\n",
    "            def output_dim(self_):\n",
    "                return feedback.output_dim\n",
    "\n",
    "            @property\n",
    "            def input_dim(self_):\n",
    "                return self.n_vars\n",
    "\n",
    "            @property\n",
    "            def state_dim(self_):\n",
    "                return feedback.state_dim\n",
    "\n",
    "            def __init__(self_):\n",
    "                pass\n",
    "\n",
    "            def set_state(self_, state):\n",
    "                return feedback.set_state(state)\n",
    "\n",
    "            def drift(self_, input):\n",
    "                return feedback.drift(input)\n",
    "\n",
    "            def __call__(self_, input):\n",
    "                return self(input)\n",
    "        return PulledBackFeedback()\n",
    "\n",
    "\n"
   ],
   "metadata": {
    "id": "s_2cwTvqoAmo",
    "ExecuteTime": {
     "end_time": "2024-04-09T11:30:03.923396091Z",
     "start_time": "2024-04-09T11:30:03.698898378Z"
    }
   },
   "execution_count": 10,
   "outputs": []
  },
  {
   "cell_type": "markdown",
   "source": [
    "# Pendulum: Euler, Unconstrained input"
   ],
   "metadata": {
    "id": "02Hxo3OXmMfC"
   }
  },
  {
   "cell_type": "code",
   "execution_count": 11,
   "metadata": {
    "id": "S3gZR3lxmDp5",
    "colab": {
     "base_uri": "https://localhost:8080/",
     "height": 611
    },
    "outputId": "1b90d794-1470-4d94-a03d-89d992ee7064",
    "ExecuteTime": {
     "end_time": "2024-04-09T11:30:05.776638250Z",
     "start_time": "2024-04-09T11:30:05.539579088Z"
    }
   },
   "outputs": [
    {
     "name": "stdout",
     "output_type": "stream",
     "text": [
      "[x0, x1]\n",
      "[-7.77156117e-16  2.00000000e-03] [0.    0.002]\n",
      "[[1.    0.001]\n",
      " [0.001 1.   ]]\n",
      "[[2.4022048e-17]\n",
      " [1.0000000e-03]]\n",
      "Value range in A: 0.0010000000000000033 -- 1.0000000000000002\n",
      "Value range in B: 2.402204800398803e-17 -- 0.0010000000000000779\n",
      "Controllability grammian: 1.000000000000314e-18\n"
     ]
    },
    {
     "data": {
      "text/plain": "<Figure size 432x288 with 1 Axes>",
      "image/png": "[encoded data removed]"
     },
     "metadata": {
      "needs_background": "light"
     },
     "output_type": "display_data"
    }
   ],
   "source": [
    "dt = 0.001\n",
    "g = 9.8\n",
    "mass = 1.0\n",
    "length = 1\n",
    "\n",
    "\n",
    "\n",
    "saturation = lambda x: -3 if x < - 3 else (3 if x > 3 else x)\n",
    "\n",
    "class Pendulum(FullInformationSystem):\n",
    "    state_dim = 2\n",
    "    input_dim = 1\n",
    "\n",
    "    def __init__(self, mass=1, length=1):\n",
    "        self.m = mass\n",
    "        self.l = length\n",
    "\n",
    "    def drift(self, input):\n",
    "        return np.array([self.state[1], g * np.sin(self.state[0]) * self.l * self.m + input[0]])\n",
    "\n",
    "class Pendulum(FullInformationSystem):\n",
    "    state_dim = 2\n",
    "    input_dim = 1\n",
    "\n",
    "    def __init__(self, mass=1, length=1):\n",
    "        self.m = mass\n",
    "        self.l = length\n",
    "\n",
    "    def drift(self, input):\n",
    "        return np.array([self.state[1], self.state[0] * self.l * self.m + input[0]])\n",
    "\n",
    "system = Pendulum(mass=mass, length=length)\n",
    "\n",
    "state_sampler = UniformBoxSampler([-np.pi, np.pi], [-3, 3])\n",
    "control_sampler = UniformBoxSampler([-10, 10])\n",
    "\n",
    "lift = PolynomialLift(1)\n",
    "\n",
    "state_transition = discretize_euler(system, dt=dt)\n",
    "\n",
    "lift.fit(state_transition=state_transition,\n",
    "         state_sampler=state_sampler,\n",
    "         control_sampler=control_sampler,\n",
    "         n_samples=10000)\n",
    "\n",
    "x_init = np.array([1, 0.0])\n",
    "\n",
    "print(lift.terms)\n",
    "\n",
    "print(lift.predict(x_init, np.array([1])) - x_init, state_transition(x_init, np.array([1])) - x_init)\n",
    "\n",
    "A = lift.A\n",
    "B = lift.B\n",
    "\n",
    "print(A)\n",
    "print(B)\n",
    "\n",
    "print(f\"Value range in A: {A.min()} -- {A.max()}\")\n",
    "print(f\"Value range in B: {B.min()} -- {B.max()}\")\n",
    "print(f\"Controllability grammian: {controllability_gramian(A, B)}\")\n",
    "\n",
    "Q = np.eye(A.shape[0])\n",
    "#Q = np.diag([1] * system.state_dim + [0] * (A.shape[0] - system.state_dim))\n",
    "R = np.eye(1)\n",
    "\n",
    "\n",
    "\n",
    "synthesis = LQRDiscreteFH(Q, R, 2)\n",
    "controller = lift.pullback(synthesis(A, B))\n",
    "\n",
    "loop = ClosedLoop(system, controller)\n",
    "\n",
    "t, y = loop.simulate([1.0, 0.0], 10.0)\n",
    "\n",
    "\n",
    "import matplotlib.pyplot as plt\n",
    "\n",
    "plt.plot(t, y[0], label=\"angle\")\n",
    "plt.plot(t, y[1], label=\"angular velocity\")\n",
    "plt.legend()\n",
    "plt.show()\n",
    "\n",
    "\n",
    "\n",
    "\n",
    "\n",
    "\n"
   ]
  },
  {
   "cell_type": "code",
   "execution_count": null,
   "outputs": [],
   "source": [],
   "metadata": {
    "collapsed": false
   }
  }
 ]
}
